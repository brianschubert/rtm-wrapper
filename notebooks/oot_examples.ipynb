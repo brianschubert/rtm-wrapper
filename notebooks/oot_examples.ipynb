{
 "cells": [
  {
   "cell_type": "markdown",
   "source": [
    "# Out Of Tree (OOT) Examples\n",
    "\n",
    "This notebook demonstrates how to define \"Out Of Tree\" parameters and outputs. That is, parameters and outputs other than those defined inside the main framework."
   ],
   "metadata": {
    "collapsed": false
   },
   "id": "47276d1fe93e1ee"
  },
  {
   "cell_type": "code",
   "execution_count": null,
   "id": "initial_id",
   "metadata": {
    "collapsed": true
   },
   "outputs": [],
   "source": [
    "import Py6S\n",
    "import alive_progress\n",
    "import numpy as np\n",
    "\n",
    "import rtm_wrapper.parameters as rtm_param\n",
    "import rtm_wrapper.plot as rtm_plot\n",
    "from rtm_wrapper.engines.sixs import PySixSEngine, pysixs_default_inputs\n",
    "from rtm_wrapper.execution import ConcurrentExecutor, ParallelConcurrentExecutor\n",
    "from rtm_wrapper.simulation import SweepSimulation"
   ]
  },
  {
   "cell_type": "markdown",
   "source": [
    "## Define OOT input parameter"
   ],
   "metadata": {
    "collapsed": false
   },
   "id": "66bb26b6039cddbb"
  },
  {
   "cell_type": "code",
   "execution_count": null,
   "outputs": [],
   "source": [
    "class Frequency(rtm_param.Parameter):\n",
    "    frequency = rtm_param.FloatField(title=\"Frequency\", unit=\"terahertz\")\n",
    "\n",
    "\n",
    "@PySixSEngine.params.register(\"wavelength\")\n",
    "def handle_frequency(inputs: Frequency, wrapper: Py6S.SixS) -> None:\n",
    "    micrometers = 1e6 * ((3e8 / 1e12) / inputs.frequency)\n",
    "    wrapper.wavelength = Py6S.Wavelength(micrometers)"
   ],
   "metadata": {
    "collapsed": false
   },
   "id": "9e81071fd80aa6b1"
  },
  {
   "cell_type": "markdown",
   "source": [
    "## Simulation using OOT input parameter"
   ],
   "metadata": {
    "collapsed": false
   },
   "id": "a2dae991e7231a81"
  },
  {
   "cell_type": "code",
   "execution_count": null,
   "outputs": [],
   "source": [
    "sweep = SweepSimulation(\n",
    "    {\n",
    "        \"wavelength.frequency\": np.linspace(200, 600, 100),\n",
    "    },\n",
    "    base=pysixs_default_inputs().replace(wavelength=Frequency())\n",
    ")\n",
    "\n",
    "\n",
    "engine = PySixSEngine()\n",
    "runner = ConcurrentExecutor()\n",
    "\n",
    "with alive_progress.alive_bar(runner.steps_for(sweep), force_tty=True) as bar:\n",
    "    runner.run(sweep, engine, step_callback=lambda _: bar())\n",
    "\n",
    "results = runner.collect_results()\n",
    "\n",
    "fig, ax = rtm_plot.plot_sweep_single(results.total_transmission)\n",
    "ax.set_title(\"Custom Parameter Example\")\n",
    "ax.grid(True)\n",
    "display(results)"
   ],
   "metadata": {
    "collapsed": false
   },
   "id": "2f7bcbd9bd8e3d4d"
  },
  {
   "cell_type": "markdown",
   "source": [
    "## Define OOT output"
   ],
   "metadata": {
    "collapsed": false
   },
   "id": "2afa7de5a23e76c8"
  },
  {
   "cell_type": "code",
   "execution_count": null,
   "outputs": [],
   "source": [
    "@PySixSEngine.outputs.register(title=\"Half Total Transmission\", unit=\"1\")\n",
    "def half_total_transmission(total_transmission: float) -> float:\n",
    "    return total_transmission / 2 "
   ],
   "metadata": {
    "collapsed": false
   },
   "id": "b63aa0bddbc6edb7"
  },
  {
   "cell_type": "markdown",
   "source": [
    "## Simulation with OOT output"
   ],
   "metadata": {
    "collapsed": false
   },
   "id": "5e6c7bae6083cead"
  },
  {
   "cell_type": "code",
   "execution_count": null,
   "outputs": [],
   "source": [
    "sweep = SweepSimulation(\n",
    "    {\n",
    "        \"wavelength.frequency\": np.linspace(100, 600, 100),\n",
    "    },\n",
    "    base=pysixs_default_inputs().replace(wavelength=Frequency())\n",
    ")\n",
    "\n",
    "engine = PySixSEngine(outputs=[\"half_total_transmission\"])\n",
    "runner = ConcurrentExecutor()\n",
    "\n",
    "with alive_progress.alive_bar(runner.steps_for(sweep), force_tty=True) as bar:\n",
    "    runner.run(sweep, engine, step_callback=lambda _: bar())\n",
    "\n",
    "results = runner.collect_results()\n",
    "\n",
    "fig, ax = rtm_plot.plot_sweep_single(results.half_total_transmission)\n",
    "ax.set_title(\"Custom Output Example\")\n",
    "ax.grid(True)\n",
    "display(results)"
   ],
   "metadata": {
    "collapsed": false
   },
   "id": "ba2a11642a526a6d"
  }
 ],
 "metadata": {
  "kernelspec": {
   "display_name": "Python 3",
   "language": "python",
   "name": "python3"
  },
  "language_info": {
   "codemirror_mode": {
    "name": "ipython",
    "version": 2
   },
   "file_extension": ".py",
   "mimetype": "text/x-python",
   "name": "python",
   "nbconvert_exporter": "python",
   "pygments_lexer": "ipython2",
   "version": "2.7.6"
  }
 },
 "nbformat": 4,
 "nbformat_minor": 5
}
