{
 "cells": [
  {
   "cell_type": "markdown",
   "source": [
    "# Comparison of RTM wrapper wavelength sweep with Py6S wavelength sweep."
   ],
   "metadata": {
    "collapsed": false
   },
   "id": "9690401ecaab32f1"
  },
  {
   "cell_type": "code",
   "execution_count": 1,
   "id": "initial_id",
   "metadata": {
    "collapsed": true,
    "ExecuteTime": {
     "end_time": "2023-08-02T12:50:46.478061067Z",
     "start_time": "2023-08-02T12:50:46.023667088Z"
    }
   },
   "outputs": [],
   "source": [
    "import alive_progress\n",
    "import numpy as np\n",
    "import numpy.testing\n",
    "import Py6S\n",
    "\n",
    "from rtm_wrapper.engines.sixs import (\n",
    "    PySixSEngine,\n",
    "    make_sixs_wrapper,\n",
    "    pysixs_default_inputs,\n",
    ")\n",
    "from rtm_wrapper.execution import ConcurrentExecutor, SerialExecutor\n",
    "from rtm_wrapper.simulation import SweepSimulation"
   ]
  },
  {
   "cell_type": "markdown",
   "source": [
    "Define sweep wavelengths."
   ],
   "metadata": {
    "collapsed": false
   },
   "id": "5486175511f1bb0a"
  },
  {
   "cell_type": "code",
   "execution_count": 2,
   "outputs": [],
   "source": [
    "wl_spacing = 0.0025\n",
    "wl = np.arange(0.4, 2.5 + wl_spacing, wl_spacing)"
   ],
   "metadata": {
    "collapsed": false,
    "ExecuteTime": {
     "end_time": "2023-08-02T12:50:46.494144420Z",
     "start_time": "2023-08-02T12:50:46.480411745Z"
    }
   },
   "id": "b007050d4fde5030"
  },
  {
   "cell_type": "markdown",
   "source": [
    "Run wavelength sweep using RTM wrapper interface."
   ],
   "metadata": {
    "collapsed": false
   },
   "id": "c3178b116d06232a"
  },
  {
   "cell_type": "code",
   "execution_count": 3,
   "outputs": [
    {
     "name": "stdout",
     "output_type": "stream",
     "text": [
      "|████████████████████████████████████████| 841/841 [100%] in 8.4s (98.79/s)     \n",
      "CPU times: user 4.09 s, sys: 5.7 s, total: 9.79 s\n",
      "Wall time: 8.73 s\n"
     ]
    }
   ],
   "source": [
    "%%time\n",
    "sweep = SweepSimulation(\n",
    "    # Sweep wavelengths.\n",
    "    {\n",
    "        \"wavelength__value\": wl,\n",
    "    },\n",
    "    # Use default Py6S settings, but with tweaked aerosol profile (example).\n",
    "    base=pysixs_default_inputs().replace(aerosol_profile__name=\"Continental\"),\n",
    ")\n",
    "\n",
    "engine = PySixSEngine()\n",
    "# runner = SerialExecutor()\n",
    "runner = ConcurrentExecutor(max_workers=None)\n",
    "\n",
    "with alive_progress.alive_bar(sweep.sweep_size, force_tty=True) as bar:\n",
    "    runner.run(sweep, engine, lambda _: bar(), on_error=\"abort\")\n",
    "\n",
    "outputs_a = runner.collect_results()"
   ],
   "metadata": {
    "collapsed": false,
    "ExecuteTime": {
     "end_time": "2023-08-02T12:50:55.716676930Z",
     "start_time": "2023-08-02T12:50:46.992904164Z"
    }
   },
   "id": "acc1ec4f301cff27"
  },
  {
   "cell_type": "markdown",
   "source": [
    "Run wavelength sweep using Py6S interface."
   ],
   "metadata": {
    "collapsed": false
   },
   "id": "eb9ea12a2ad986f1"
  },
  {
   "cell_type": "code",
   "execution_count": 4,
   "outputs": [
    {
     "name": "stdout",
     "output_type": "stream",
     "text": [
      "Running for many wavelengths - this may take a long time\n",
      "CPU times: user 3.11 s, sys: 4.77 s, total: 7.88 s\n",
      "Wall time: 7.1 s\n"
     ]
    }
   ],
   "source": [
    "%%time\n",
    "sixs = make_sixs_wrapper()\n",
    "sixs.aero_profile = Py6S.AeroProfile.PredefinedType(Py6S.AeroProfile.Continental)\n",
    "_wl, outputs_b = Py6S.SixSHelpers.Wavelengths.run_wavelengths(sixs, wl)"
   ],
   "metadata": {
    "collapsed": false,
    "ExecuteTime": {
     "end_time": "2023-08-02T12:51:06.479666132Z",
     "start_time": "2023-08-02T12:50:59.366976768Z"
    }
   },
   "id": "adef0c845b97e4d2"
  },
  {
   "cell_type": "markdown",
   "source": [
    "Verify that the results are the same."
   ],
   "metadata": {
    "collapsed": false
   },
   "id": "d4b0976cee558d13"
  },
  {
   "cell_type": "code",
   "execution_count": 5,
   "outputs": [],
   "source": [
    "np.testing.assert_allclose(\n",
    "    outputs_a.variables[\"apparent_radiance\"], [o.apparent_radiance for o in outputs_b]\n",
    ")"
   ],
   "metadata": {
    "collapsed": false,
    "ExecuteTime": {
     "end_time": "2023-08-02T12:51:07.897966619Z",
     "start_time": "2023-08-02T12:51:07.871785380Z"
    }
   },
   "id": "26e8d6d17eee21c0"
  }
 ],
 "metadata": {
  "kernelspec": {
   "display_name": "Python 3",
   "language": "python",
   "name": "python3"
  },
  "language_info": {
   "codemirror_mode": {
    "name": "ipython",
    "version": 2
   },
   "file_extension": ".py",
   "mimetype": "text/x-python",
   "name": "python",
   "nbconvert_exporter": "python",
   "pygments_lexer": "ipython2",
   "version": "2.7.6"
  }
 },
 "nbformat": 4,
 "nbformat_minor": 5
}
