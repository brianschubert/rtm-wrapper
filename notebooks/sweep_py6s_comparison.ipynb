{
 "cells": [
  {
   "cell_type": "markdown",
   "source": [
    "# Comparison of RTM wrapper wavelength sweep with Py6S wavelength sweep."
   ],
   "metadata": {
    "collapsed": false
   },
   "id": "9690401ecaab32f1"
  },
  {
   "cell_type": "code",
   "execution_count": 1,
   "id": "initial_id",
   "metadata": {
    "collapsed": true,
    "ExecuteTime": {
     "end_time": "2023-07-31T15:24:49.841910055Z",
     "start_time": "2023-07-31T15:24:49.234969648Z"
    }
   },
   "outputs": [],
   "source": [
    "import dataclasses\n",
    "\n",
    "import alive_progress\n",
    "import numpy as np\n",
    "import numpy.testing\n",
    "import Py6S\n",
    "\n",
    "from rtm_wrapper.engines.sixs import PySixSEngine, make_sixs_wrapper, pysixs_default_inputs\n",
    "from rtm_wrapper.execution import ConcurrentExecutor, SerialExecutor\n",
    "from rtm_wrapper.simulation import SweepSimulation"
   ]
  },
  {
   "cell_type": "markdown",
   "source": [
    "Define sweep wavelengths."
   ],
   "metadata": {
    "collapsed": false
   },
   "id": "5486175511f1bb0a"
  },
  {
   "cell_type": "code",
   "execution_count": 2,
   "outputs": [],
   "source": [
    "wl_spacing = 0.0025\n",
    "wl = np.arange(0.4, 2.5 + wl_spacing, wl_spacing)"
   ],
   "metadata": {
    "collapsed": false,
    "ExecuteTime": {
     "end_time": "2023-07-31T15:24:49.855322638Z",
     "start_time": "2023-07-31T15:24:49.844354773Z"
    }
   },
   "id": "b007050d4fde5030"
  },
  {
   "cell_type": "markdown",
   "source": [
    "Run wavelength sweep using RTM wrapper interface."
   ],
   "metadata": {
    "collapsed": false
   },
   "id": "c3178b116d06232a"
  },
  {
   "cell_type": "code",
   "execution_count": 3,
   "outputs": [
    {
     "name": "stdout",
     "output_type": "stream",
     "text": [
      "|████████████████████████████████████████| 841/841 [100%] in 19.8s (41.23/s)    \n",
      "CPU times: user 6.06 s, sys: 6.29 s, total: 12.3 s\n",
      "Wall time: 20 s\n"
     ]
    }
   ],
   "source": [
    "%%time\n",
    "sweep = SweepSimulation(\n",
    "    # Sweep wavelengths.\n",
    "    {\n",
    "        \"wavelength\": wl,\n",
    "    },\n",
    "    # Use default Py6S settings, but with tweaked aerosol profile.\n",
    "    base=dataclasses.replace(\n",
    "        pysixs_default_inputs(), \n",
    "        aerosol_profile=\"Continental\",\n",
    "        aerosol_aot=[(5, 1)],\n",
    "    )\n",
    ")\n",
    "\n",
    "engine = PySixSEngine()\n",
    "# runner = SerialExecutor()\n",
    "runner = ConcurrentExecutor(max_workers=None)\n",
    "\n",
    "with alive_progress.alive_bar(sweep.sweep_size, force_tty=True) as bar:\n",
    "    runner.run(sweep, engine, lambda _: bar())\n",
    "\n",
    "outputs_a = runner.collect_results()"
   ],
   "metadata": {
    "collapsed": false,
    "ExecuteTime": {
     "end_time": "2023-07-31T15:25:09.842377116Z",
     "start_time": "2023-07-31T15:24:49.846821734Z"
    }
   },
   "id": "acc1ec4f301cff27"
  },
  {
   "cell_type": "markdown",
   "source": [
    "Run wavelength sweep using Py6S interface."
   ],
   "metadata": {
    "collapsed": false
   },
   "id": "eb9ea12a2ad986f1"
  },
  {
   "cell_type": "code",
   "execution_count": 4,
   "outputs": [
    {
     "name": "stdout",
     "output_type": "stream",
     "text": [
      "Running for many wavelengths - this may take a long time\n",
      "CPU times: user 4.94 s, sys: 5.39 s, total: 10.3 s\n",
      "Wall time: 20.9 s\n"
     ]
    }
   ],
   "source": [
    "%%time\n",
    "sixs = make_sixs_wrapper()\n",
    "sixs.aero_profile = Py6S.AeroProfile.UserProfile(Py6S.AeroProfile.Continental)\n",
    "sixs.aero_profile.add_layer(5, 1)\n",
    "_wl, outputs_b = Py6S.SixSHelpers.Wavelengths.run_wavelengths(sixs, wl)"
   ],
   "metadata": {
    "collapsed": false,
    "ExecuteTime": {
     "end_time": "2023-07-31T15:25:30.752001018Z",
     "start_time": "2023-07-31T15:25:09.844179195Z"
    }
   },
   "id": "adef0c845b97e4d2"
  },
  {
   "cell_type": "markdown",
   "source": [
    "Verify that the results are the same."
   ],
   "metadata": {
    "collapsed": false
   },
   "id": "d4b0976cee558d13"
  },
  {
   "cell_type": "code",
   "execution_count": 5,
   "outputs": [],
   "source": [
    "np.testing.assert_allclose(\n",
    "    outputs_a.variables[\"apparent_radiance\"], [o.apparent_radiance for o in outputs_b]\n",
    ")"
   ],
   "metadata": {
    "collapsed": false,
    "ExecuteTime": {
     "end_time": "2023-07-31T15:25:30.752242975Z",
     "start_time": "2023-07-31T15:25:30.751801140Z"
    }
   },
   "id": "26e8d6d17eee21c0"
  }
 ],
 "metadata": {
  "kernelspec": {
   "display_name": "Python 3",
   "language": "python",
   "name": "python3"
  },
  "language_info": {
   "codemirror_mode": {
    "name": "ipython",
    "version": 2
   },
   "file_extension": ".py",
   "mimetype": "text/x-python",
   "name": "python",
   "nbconvert_exporter": "python",
   "pygments_lexer": "ipython2",
   "version": "2.7.6"
  }
 },
 "nbformat": 4,
 "nbformat_minor": 5
}
