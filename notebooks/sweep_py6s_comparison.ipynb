{
 "cells": [
  {
   "cell_type": "code",
   "execution_count": 1,
   "id": "initial_id",
   "metadata": {
    "collapsed": true,
    "ExecuteTime": {
     "end_time": "2023-07-31T00:50:11.641581362Z",
     "start_time": "2023-07-31T00:50:10.999622153Z"
    }
   },
   "outputs": [],
   "source": [
    "import alive_progress\n",
    "import numpy as np\n",
    "import numpy.testing\n",
    "import Py6S\n",
    "\n",
    "from rtm_wrapper.engines.sixs import PySixSEngine, make_sixs_wrapper\n",
    "from rtm_wrapper.execution import ConcurrentExecutor, SerialExecutor\n",
    "from rtm_wrapper.simulation import Inputs, SweepSimulation"
   ]
  },
  {
   "cell_type": "code",
   "execution_count": 2,
   "outputs": [],
   "source": [
    "wl_spacing = 0.0025\n",
    "wl = np.arange(0.4, 2.5 + wl_spacing, wl_spacing)"
   ],
   "metadata": {
    "collapsed": false,
    "ExecuteTime": {
     "end_time": "2023-07-31T00:50:11.655421696Z",
     "start_time": "2023-07-31T00:50:11.645057231Z"
    }
   },
   "id": "b007050d4fde5030"
  },
  {
   "cell_type": "code",
   "execution_count": 3,
   "outputs": [
    {
     "name": "stdout",
     "output_type": "stream",
     "text": [
      "|████████████████████████████████████████| 841/841 [100%] in 20.3s (40.42/s)    \n",
      "CPU times: user 5.78 s, sys: 6.23 s, total: 12 s\n",
      "Wall time: 20.5 s\n"
     ]
    }
   ],
   "source": [
    "%%time\n",
    "sweep = SweepSimulation(\n",
    "    [\n",
    "        (\"wavelength\", wl),\n",
    "    ],\n",
    "    base=Inputs(\n",
    "        water=1,\n",
    "        ozone=1,\n",
    "        aot=[(5, 1)],\n",
    "        wavelength=wl,\n",
    "    ),\n",
    ")\n",
    "\n",
    "engine = PySixSEngine(make_sixs_wrapper())\n",
    "runner = ConcurrentExecutor(max_workers=None)\n",
    "# runner = SerialExecutor()\n",
    "\n",
    "with alive_progress.alive_bar(sweep.sweep_size, force_tty=True) as bar:\n",
    "    runner.run(sweep, engine, lambda _: bar())\n",
    "\n",
    "outputs_a = runner.collect_results()"
   ],
   "metadata": {
    "collapsed": false,
    "ExecuteTime": {
     "end_time": "2023-07-31T00:50:32.164872402Z",
     "start_time": "2023-07-31T00:50:11.650042580Z"
    }
   },
   "id": "acc1ec4f301cff27"
  },
  {
   "cell_type": "code",
   "execution_count": 4,
   "outputs": [
    {
     "name": "stdout",
     "output_type": "stream",
     "text": [
      "Running for many wavelengths - this may take a long time\n",
      "CPU times: user 5.05 s, sys: 5.95 s, total: 11 s\n",
      "Wall time: 21.4 s\n"
     ]
    }
   ],
   "source": [
    "%%time\n",
    "sixs = make_sixs_wrapper()\n",
    "sixs.atmos_profile = Py6S.AtmosProfile.UserWaterAndOzone(1, 1)\n",
    "sixs.aero_profile = Py6S.AeroProfile.UserProfile(Py6S.AeroProfile.Continental)\n",
    "sixs.aero_profile.add_layer(5, 1)\n",
    "_wl, outputs_b = Py6S.SixSHelpers.Wavelengths.run_wavelengths(sixs, wl)"
   ],
   "metadata": {
    "collapsed": false,
    "ExecuteTime": {
     "end_time": "2023-07-31T00:50:53.620094233Z",
     "start_time": "2023-07-31T00:50:32.168086379Z"
    }
   },
   "id": "adef0c845b97e4d2"
  },
  {
   "cell_type": "code",
   "execution_count": 5,
   "outputs": [],
   "source": [
    "np.testing.assert_allclose(\n",
    "    outputs_a.variables[\"apparent_radiance\"], [o.apparent_radiance for o in outputs_b]\n",
    ")"
   ],
   "metadata": {
    "collapsed": false,
    "ExecuteTime": {
     "end_time": "2023-07-31T00:50:53.620356646Z",
     "start_time": "2023-07-31T00:50:53.619767592Z"
    }
   },
   "id": "26e8d6d17eee21c0"
  }
 ],
 "metadata": {
  "kernelspec": {
   "display_name": "Python 3",
   "language": "python",
   "name": "python3"
  },
  "language_info": {
   "codemirror_mode": {
    "name": "ipython",
    "version": 2
   },
   "file_extension": ".py",
   "mimetype": "text/x-python",
   "name": "python",
   "nbconvert_exporter": "python",
   "pygments_lexer": "ipython2",
   "version": "2.7.6"
  }
 },
 "nbformat": 4,
 "nbformat_minor": 5
}
